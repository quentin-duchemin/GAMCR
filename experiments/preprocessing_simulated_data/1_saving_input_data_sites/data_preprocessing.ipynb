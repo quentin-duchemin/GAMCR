{
 "cells": [
  {
   "cell_type": "markdown",
   "id": "842403c5",
   "metadata": {},
   "source": [
    "# This code allows to load precipitation data and temperature data from which we build a dataframe with precipitation data and PET at the hourly resolution"
   ]
  },
  {
   "cell_type": "markdown",
   "id": "eac6d555",
   "metadata": {},
   "source": [
    "# START by dowloading the file 'data.zip' using the link below and extract it. Save the resulting data folder in the folder 'experiments'.\n",
    "\n",
    "https://www.dropbox.com/scl/fi/mo4xg95ktj7yt09e1o78a/data.zip?rlkey=9m8e4nshv831g7q129c1vsy53&st=e7xmas3s&dl=0"
   ]
  },
  {
   "cell_type": "code",
   "execution_count": 2,
   "id": "df845f7d",
   "metadata": {},
   "outputs": [],
   "source": [
    "import pandas as pd\n",
    "import numpy as np\n",
    "import matplotlib.pyplot as plt\n",
    "from datetime import datetime\n",
    "import sys, os\n",
    "sys.path.append('../../../')\n",
    "os.chdir('../../data/simulated_data/')\n",
    "import pyeto\n",
    "\n",
    "def toYearFraction(date):\n",
    "    def sinceEpoch(date): # returns seconds since epoch\n",
    "        return (date.timestamp())\n",
    "    s = sinceEpoch\n",
    "\n",
    "    year = date.year\n",
    "    startOfThisYear = datetime(year=year, month=1, day=1)\n",
    "    startOfNextYear = datetime(year=year+1, month=1, day=1)\n",
    "\n",
    "    yearElapsed = s(date) - s(startOfThisYear)\n",
    "    yearDuration = s(startOfNextYear) - s(startOfThisYear)\n",
    "    fraction = yearElapsed/yearDuration\n",
    "\n",
    "    return date.year + fraction\n",
    "\n",
    "site = 'LUG'\n",
    "\n",
    "site2name = {'LUG':'Lugano', 'PUY':'Pully', 'BAS':'Basel'}\n",
    "ls_latitude = {'LUG': 46, 'SIO': 46.13, 'PUY': 46.31, 'BAS':47.32}"
   ]
  },
  {
   "cell_type": "markdown",
   "id": "86d4ae3c",
   "metadata": {},
   "source": [
    "# 1. Loading precipitation data"
   ]
  },
  {
   "cell_type": "code",
   "execution_count": 3,
   "id": "63a1d2fe",
   "metadata": {},
   "outputs": [
    {
     "name": "stderr",
     "output_type": "stream",
     "text": [
      "/tmp/ipykernel_49300/376841677.py:1: DtypeWarning: Columns (2) have mixed types. Specify dtype option on import or set low_memory=False.\n",
      "  df = pd.read_csv('./precipitation/order_122969_{0}_rre150h0_1_data.txt'.format(site), sep=';')\n"
     ]
    }
   ],
   "source": [
    "df = pd.read_csv('./precipitation/order_122969_{0}_rre150h0_1_data.txt'.format(site), sep=';')\n",
    "df['datetime'] = df['time'].apply(lambda x: datetime.strptime(str(x), '%Y%m%d%H'))\n",
    "df['t'] = df['datetime'].apply(lambda x: toYearFraction(x))"
   ]
  },
  {
   "cell_type": "code",
   "execution_count": 4,
   "id": "ef5d606d",
   "metadata": {},
   "outputs": [],
   "source": [
    "df = df.replace('-', np.NaN)\n",
    "df = df.rename(columns={\"rre150h0\": \"p\"})\n",
    "df['p'] = df['p'].astype(float)"
   ]
  },
  {
   "cell_type": "markdown",
   "id": "8b6b5f3c",
   "metadata": {},
   "source": [
    "#### Checking that there is no data gap"
   ]
  },
  {
   "cell_type": "code",
   "execution_count": 5,
   "id": "e6ce1ba9",
   "metadata": {},
   "outputs": [
    {
     "data": {
      "text/plain": [
       "[<matplotlib.lines.Line2D at 0x727343346260>]"
      ]
     },
     "execution_count": 5,
     "metadata": {},
     "output_type": "execute_result"
    },
    {
     "data": {
      "image/png": "[encoded data removed]",
      "text/plain": [
       "<Figure size 640x480 with 1 Axes>"
      ]
     },
     "metadata": {},
     "output_type": "display_data"
    }
   ],
   "source": [
    "diffhour = (df['datetime'].sort_values().diff() > pd.to_timedelta('1 hour')).to_numpy()\n",
    "idxs = np.where(diffhour>0.5)[0]\n",
    "plt.plot(diffhour)"
   ]
  },
  {
   "cell_type": "markdown",
   "id": "21071598",
   "metadata": {},
   "source": [
    "# 2. Loading temperature data that will be used to compute PET"
   ]
  },
  {
   "cell_type": "code",
   "execution_count": 6,
   "id": "3e085997",
   "metadata": {},
   "outputs": [
    {
     "data": {
      "text/plain": [
       "[<matplotlib.lines.Line2D at 0x727382f3be80>]"
      ]
     },
     "execution_count": 6,
     "metadata": {},
     "output_type": "execute_result"
    },
    {
     "data": {
      "image/png": "[encoded data removed]",
      "text/plain": [
       "<Figure size 640x480 with 1 Axes>"
      ]
     },
     "metadata": {},
     "output_type": "display_data"
    }
   ],
   "source": [
    "Tmax = pd.read_csv('./daily_temperature_min_max/order_123003_{0}_tre200dx_1_data.txt'.format(site), header=0, sep=';', engine='python')\n",
    "Tmax['datetime'] = Tmax['time'].apply(lambda x: datetime.strptime(str(x), '%Y%m%d'))\n",
    "Tmax['t'] = Tmax['datetime'].apply(lambda x: toYearFraction(x))\n",
    "Tmax = Tmax.rename(columns={\"tre200dx\": \"tmax\"})\n",
    "Tmax = Tmax.replace('-', np.NaN)\n",
    "\n",
    "Tmin = pd.read_csv('./daily_temperature_min_max/order_123003_{0}_tre200dn_1_data.txt'.format(site), header=0, sep=';',  engine='python')\n",
    "Tmin['datetime'] = Tmin['time'].apply(lambda x: datetime.strptime(str(x), '%Y%m%d'))\n",
    "Tmin['t'] = Tmin['datetime'].apply(lambda x: toYearFraction(x))\n",
    "Tmin = Tmin.rename(columns={\"tre200dn\": \"tmin\"})\n",
    "Tmin = Tmin.replace('-', np.NaN)\n",
    "\n",
    "Tmean = pd.read_csv('./daily_temperature_mean/order_122970_{0}_tre200d0_1_data.txt'.format(site), header=0, sep=';',  engine='python')\n",
    "Tmean['datetime'] = Tmean['time'].apply(lambda x: datetime.strptime(str(x), '%Y%m%d'))\n",
    "Tmean['t'] = Tmean['datetime'].apply(lambda x: toYearFraction(x))\n",
    "Tmean = Tmean.rename(columns={\"tre200d0\": \"tabs\"})\n",
    "Tmean = Tmean.replace('-', np.NaN)\n",
    "\n",
    "data = Tmin\n",
    "#data = pd.merge(data, Tmin, on=\"datetime\", how=\"inner\")\n",
    "data = pd.merge(data, Tmax, on=\"datetime\", how=\"inner\")\n",
    "data = pd.merge(data, Tmean, on=\"datetime\", how=\"inner\")\n",
    "\n",
    "diffhour = (data['datetime'].sort_values().diff() > pd.to_timedelta('1 day')).to_numpy()\n",
    "idxs = np.where(diffhour>0.5)[0]\n",
    "plt.plot(diffhour)"
   ]
  },
  {
   "cell_type": "markdown",
   "id": "5ff4abfa",
   "metadata": {},
   "source": [
    "# 3. Computing PET (daily)"
   ]
  },
  {
   "cell_type": "code",
   "execution_count": 7,
   "id": "f5c3a608",
   "metadata": {},
   "outputs": [],
   "source": [
    "# PET\n",
    "def get_PET_hargreaves(tmin,tmean,tmax,Date,latitude):\n",
    "    lat = pyeto.deg2rad(float(latitude))  # Convert latitude to radians\n",
    "    day_of_year = Date.timetuple().tm_yday\n",
    "    sol_dec = pyeto.sol_dec(day_of_year)            # Solar declination\n",
    "    sha = pyeto.sunset_hour_angle(lat, sol_dec)\n",
    "    ird = pyeto.inv_rel_dist_earth_sun(day_of_year)\n",
    "    et_rad = pyeto.et_rad(lat, sol_dec, sha, ird)   # Extraterrestrial radiation\n",
    "    tmax = max(tmax,tmin)\n",
    "    tmin = min(tmin,tmax)\n",
    "    tmean = max(min(tmean,tmax),tmin)\n",
    "    return pyeto.hargreaves(tmin, tmax, tmean, et_rad)\n",
    "\n",
    "lst = np.arange(0,len(data),1)\n",
    "PET = np.array(list(map(lambda t: get_PET_hargreaves(data.iloc[t]['tmin'], data.iloc[t]['tabs'], data.iloc[t]['tmax'], data['datetime'][t], ls_latitude[site]), lst) ))\n",
    "data['pet'] = PET"
   ]
  },
  {
   "cell_type": "markdown",
   "id": "72952268",
   "metadata": {},
   "source": [
    "# 4. Keeping only dates for which we have both precipitation and PET computed"
   ]
  },
  {
   "cell_type": "code",
   "execution_count": 8,
   "id": "fbc898d3",
   "metadata": {},
   "outputs": [
    {
     "name": "stdout",
     "output_type": "stream",
     "text": [
      "1981-01-01 00:00:00 2023-12-30 23:00:00\n"
     ]
    }
   ],
   "source": [
    "df = df.sort_values(by='datetime', axis=0)\n",
    "data = data.sort_values(by='datetime', axis=0)\n",
    "begindate = max(df.iloc[0]['datetime'], data.iloc[0]['datetime'])\n",
    "enddate = min(df.iloc[-1]['datetime'], data.iloc[-1]['datetime'])\n",
    "enddate = enddate-pd.to_timedelta('1 hour')\n",
    "print(begindate, enddate)\n",
    "df = df.loc[df['datetime'].apply(lambda x: (begindate<=x) and (enddate>=x))]\n",
    "data = data.loc[data['datetime'].apply(lambda x: (begindate<=x) and (enddate>=x))]"
   ]
  },
  {
   "cell_type": "code",
   "execution_count": 9,
   "id": "bea4437b",
   "metadata": {
    "scrolled": true
   },
   "outputs": [
    {
     "data": {
      "text/html": [
       "<div>\n",
       "<style scoped>\n",
       "    .dataframe tbody tr th:only-of-type {\n",
       "        vertical-align: middle;\n",
       "    }\n",
       "\n",
       "    .dataframe tbody tr th {\n",
       "        vertical-align: top;\n",
       "    }\n",
       "\n",
       "    .dataframe thead th {\n",
       "        text-align: right;\n",
       "    }\n",
       "</style>\n",
       "<table border=\"1\" class=\"dataframe\">\n",
       "  <thead>\n",
       "    <tr style=\"text-align: right;\">\n",
       "      <th></th>\n",
       "      <th>stn</th>\n",
       "      <th>time</th>\n",
       "      <th>p</th>\n",
       "      <th>datetime</th>\n",
       "      <th>t</th>\n",
       "    </tr>\n",
       "  </thead>\n",
       "  <tbody>\n",
       "    <tr>\n",
       "      <th>1</th>\n",
       "      <td>LUG</td>\n",
       "      <td>1981010100</td>\n",
       "      <td>0.0</td>\n",
       "      <td>1981-01-01 00:00:00</td>\n",
       "      <td>1981.000114</td>\n",
       "    </tr>\n",
       "    <tr>\n",
       "      <th>2</th>\n",
       "      <td>LUG</td>\n",
       "      <td>1981010101</td>\n",
       "      <td>0.0</td>\n",
       "      <td>1981-01-01 01:00:00</td>\n",
       "      <td>1981.000228</td>\n",
       "    </tr>\n",
       "    <tr>\n",
       "      <th>3</th>\n",
       "      <td>LUG</td>\n",
       "      <td>1981010102</td>\n",
       "      <td>0.0</td>\n",
       "      <td>1981-01-01 02:00:00</td>\n",
       "      <td>1981.000342</td>\n",
       "    </tr>\n",
       "    <tr>\n",
       "      <th>4</th>\n",
       "      <td>LUG</td>\n",
       "      <td>1981010103</td>\n",
       "      <td>0.0</td>\n",
       "      <td>1981-01-01 03:00:00</td>\n",
       "      <td>1981.000457</td>\n",
       "    </tr>\n",
       "    <tr>\n",
       "      <th>5</th>\n",
       "      <td>LUG</td>\n",
       "      <td>1981010104</td>\n",
       "      <td>0.0</td>\n",
       "      <td>1981-01-01 04:00:00</td>\n",
       "      <td>1981.000571</td>\n",
       "    </tr>\n",
       "    <tr>\n",
       "      <th>...</th>\n",
       "      <td>...</td>\n",
       "      <td>...</td>\n",
       "      <td>...</td>\n",
       "      <td>...</td>\n",
       "      <td>...</td>\n",
       "    </tr>\n",
       "    <tr>\n",
       "      <th>376892</th>\n",
       "      <td>LUG</td>\n",
       "      <td>2023123019</td>\n",
       "      <td>0.0</td>\n",
       "      <td>2023-12-30 19:00:00</td>\n",
       "      <td>2023.996804</td>\n",
       "    </tr>\n",
       "    <tr>\n",
       "      <th>376893</th>\n",
       "      <td>LUG</td>\n",
       "      <td>2023123020</td>\n",
       "      <td>0.0</td>\n",
       "      <td>2023-12-30 20:00:00</td>\n",
       "      <td>2023.996918</td>\n",
       "    </tr>\n",
       "    <tr>\n",
       "      <th>376894</th>\n",
       "      <td>LUG</td>\n",
       "      <td>2023123021</td>\n",
       "      <td>0.0</td>\n",
       "      <td>2023-12-30 21:00:00</td>\n",
       "      <td>2023.997032</td>\n",
       "    </tr>\n",
       "    <tr>\n",
       "      <th>376895</th>\n",
       "      <td>LUG</td>\n",
       "      <td>2023123022</td>\n",
       "      <td>0.0</td>\n",
       "      <td>2023-12-30 22:00:00</td>\n",
       "      <td>2023.997146</td>\n",
       "    </tr>\n",
       "    <tr>\n",
       "      <th>376896</th>\n",
       "      <td>LUG</td>\n",
       "      <td>2023123023</td>\n",
       "      <td>0.0</td>\n",
       "      <td>2023-12-30 23:00:00</td>\n",
       "      <td>2023.997260</td>\n",
       "    </tr>\n",
       "  </tbody>\n",
       "</table>\n",
       "<p>376896 rows × 5 columns</p>\n",
       "</div>"
      ],
      "text/plain": [
       "        stn        time    p            datetime            t\n",
       "1       LUG  1981010100  0.0 1981-01-01 00:00:00  1981.000114\n",
       "2       LUG  1981010101  0.0 1981-01-01 01:00:00  1981.000228\n",
       "3       LUG  1981010102  0.0 1981-01-01 02:00:00  1981.000342\n",
       "4       LUG  1981010103  0.0 1981-01-01 03:00:00  1981.000457\n",
       "5       LUG  1981010104  0.0 1981-01-01 04:00:00  1981.000571\n",
       "...     ...         ...  ...                 ...          ...\n",
       "376892  LUG  2023123019  0.0 2023-12-30 19:00:00  2023.996804\n",
       "376893  LUG  2023123020  0.0 2023-12-30 20:00:00  2023.996918\n",
       "376894  LUG  2023123021  0.0 2023-12-30 21:00:00  2023.997032\n",
       "376895  LUG  2023123022  0.0 2023-12-30 22:00:00  2023.997146\n",
       "376896  LUG  2023123023  0.0 2023-12-30 23:00:00  2023.997260\n",
       "\n",
       "[376896 rows x 5 columns]"
      ]
     },
     "execution_count": 9,
     "metadata": {},
     "output_type": "execute_result"
    }
   ],
   "source": [
    "df"
   ]
  },
  {
   "cell_type": "code",
   "execution_count": 10,
   "id": "00c94568",
   "metadata": {},
   "outputs": [
    {
     "data": {
      "text/html": [
       "<div>\n",
       "<style scoped>\n",
       "    .dataframe tbody tr th:only-of-type {\n",
       "        vertical-align: middle;\n",
       "    }\n",
       "\n",
       "    .dataframe tbody tr th {\n",
       "        vertical-align: top;\n",
       "    }\n",
       "\n",
       "    .dataframe thead th {\n",
       "        text-align: right;\n",
       "    }\n",
       "</style>\n",
       "<table border=\"1\" class=\"dataframe\">\n",
       "  <thead>\n",
       "    <tr style=\"text-align: right;\">\n",
       "      <th></th>\n",
       "      <th>stn_x</th>\n",
       "      <th>time_x</th>\n",
       "      <th>tmin</th>\n",
       "      <th>datetime</th>\n",
       "      <th>t_x</th>\n",
       "      <th>stn_y</th>\n",
       "      <th>time_y</th>\n",
       "      <th>tmax</th>\n",
       "      <th>t_y</th>\n",
       "      <th>stn</th>\n",
       "      <th>time</th>\n",
       "      <th>tabs</th>\n",
       "      <th>t</th>\n",
       "      <th>pet</th>\n",
       "    </tr>\n",
       "  </thead>\n",
       "  <tbody>\n",
       "    <tr>\n",
       "      <th>0</th>\n",
       "      <td>LUG</td>\n",
       "      <td>19810101</td>\n",
       "      <td>0.3</td>\n",
       "      <td>1981-01-01</td>\n",
       "      <td>1981.000114</td>\n",
       "      <td>LUG</td>\n",
       "      <td>19810101</td>\n",
       "      <td>16.0</td>\n",
       "      <td>1981.000114</td>\n",
       "      <td>LUG</td>\n",
       "      <td>19810101</td>\n",
       "      <td>8.0</td>\n",
       "      <td>1981.000114</td>\n",
       "      <td>0.972782</td>\n",
       "    </tr>\n",
       "    <tr>\n",
       "      <th>1</th>\n",
       "      <td>LUG</td>\n",
       "      <td>19810102</td>\n",
       "      <td>3.3</td>\n",
       "      <td>1981-01-02</td>\n",
       "      <td>1981.002854</td>\n",
       "      <td>LUG</td>\n",
       "      <td>19810102</td>\n",
       "      <td>12.7</td>\n",
       "      <td>1981.002854</td>\n",
       "      <td>LUG</td>\n",
       "      <td>19810102</td>\n",
       "      <td>8.4</td>\n",
       "      <td>1981.002854</td>\n",
       "      <td>0.768530</td>\n",
       "    </tr>\n",
       "    <tr>\n",
       "      <th>2</th>\n",
       "      <td>LUG</td>\n",
       "      <td>19810103</td>\n",
       "      <td>0.6</td>\n",
       "      <td>1981-01-03</td>\n",
       "      <td>1981.005594</td>\n",
       "      <td>LUG</td>\n",
       "      <td>19810103</td>\n",
       "      <td>7.3</td>\n",
       "      <td>1981.005594</td>\n",
       "      <td>LUG</td>\n",
       "      <td>19810103</td>\n",
       "      <td>3.6</td>\n",
       "      <td>1981.005594</td>\n",
       "      <td>0.533057</td>\n",
       "    </tr>\n",
       "    <tr>\n",
       "      <th>3</th>\n",
       "      <td>LUG</td>\n",
       "      <td>19810104</td>\n",
       "      <td>3.5</td>\n",
       "      <td>1981-01-04</td>\n",
       "      <td>1981.008333</td>\n",
       "      <td>LUG</td>\n",
       "      <td>19810104</td>\n",
       "      <td>13.3</td>\n",
       "      <td>1981.008333</td>\n",
       "      <td>LUG</td>\n",
       "      <td>19810104</td>\n",
       "      <td>8.2</td>\n",
       "      <td>1981.008333</td>\n",
       "      <td>0.788154</td>\n",
       "    </tr>\n",
       "    <tr>\n",
       "      <th>4</th>\n",
       "      <td>LUG</td>\n",
       "      <td>19810105</td>\n",
       "      <td>2.1</td>\n",
       "      <td>1981-01-05</td>\n",
       "      <td>1981.011073</td>\n",
       "      <td>LUG</td>\n",
       "      <td>19810105</td>\n",
       "      <td>7.7</td>\n",
       "      <td>1981.011073</td>\n",
       "      <td>LUG</td>\n",
       "      <td>19810105</td>\n",
       "      <td>5.0</td>\n",
       "      <td>1981.011073</td>\n",
       "      <td>0.525928</td>\n",
       "    </tr>\n",
       "    <tr>\n",
       "      <th>...</th>\n",
       "      <td>...</td>\n",
       "      <td>...</td>\n",
       "      <td>...</td>\n",
       "      <td>...</td>\n",
       "      <td>...</td>\n",
       "      <td>...</td>\n",
       "      <td>...</td>\n",
       "      <td>...</td>\n",
       "      <td>...</td>\n",
       "      <td>...</td>\n",
       "      <td>...</td>\n",
       "      <td>...</td>\n",
       "      <td>...</td>\n",
       "      <td>...</td>\n",
       "    </tr>\n",
       "    <tr>\n",
       "      <th>15699</th>\n",
       "      <td>LUG</td>\n",
       "      <td>20231226</td>\n",
       "      <td>4.7</td>\n",
       "      <td>2023-12-26</td>\n",
       "      <td>2023.983676</td>\n",
       "      <td>LUG</td>\n",
       "      <td>20231226</td>\n",
       "      <td>10.4</td>\n",
       "      <td>2023.983676</td>\n",
       "      <td>LUG</td>\n",
       "      <td>20231226</td>\n",
       "      <td>7.9</td>\n",
       "      <td>2023.983676</td>\n",
       "      <td>0.570308</td>\n",
       "    </tr>\n",
       "    <tr>\n",
       "      <th>15700</th>\n",
       "      <td>LUG</td>\n",
       "      <td>20231227</td>\n",
       "      <td>4.1</td>\n",
       "      <td>2023-12-27</td>\n",
       "      <td>2023.986416</td>\n",
       "      <td>LUG</td>\n",
       "      <td>20231227</td>\n",
       "      <td>11.3</td>\n",
       "      <td>2023.986416</td>\n",
       "      <td>LUG</td>\n",
       "      <td>20231227</td>\n",
       "      <td>7.3</td>\n",
       "      <td>2023.986416</td>\n",
       "      <td>0.627777</td>\n",
       "    </tr>\n",
       "    <tr>\n",
       "      <th>15701</th>\n",
       "      <td>LUG</td>\n",
       "      <td>20231228</td>\n",
       "      <td>6.8</td>\n",
       "      <td>2023-12-28</td>\n",
       "      <td>2023.989155</td>\n",
       "      <td>LUG</td>\n",
       "      <td>20231228</td>\n",
       "      <td>9.1</td>\n",
       "      <td>2023.989155</td>\n",
       "      <td>LUG</td>\n",
       "      <td>20231228</td>\n",
       "      <td>8.1</td>\n",
       "      <td>2023.989155</td>\n",
       "      <td>0.367323</td>\n",
       "    </tr>\n",
       "    <tr>\n",
       "      <th>15702</th>\n",
       "      <td>LUG</td>\n",
       "      <td>20231229</td>\n",
       "      <td>7.7</td>\n",
       "      <td>2023-12-29</td>\n",
       "      <td>2023.991895</td>\n",
       "      <td>LUG</td>\n",
       "      <td>20231229</td>\n",
       "      <td>9.2</td>\n",
       "      <td>2023.991895</td>\n",
       "      <td>LUG</td>\n",
       "      <td>20231229</td>\n",
       "      <td>8.4</td>\n",
       "      <td>2023.991895</td>\n",
       "      <td>0.301190</td>\n",
       "    </tr>\n",
       "    <tr>\n",
       "      <th>15703</th>\n",
       "      <td>LUG</td>\n",
       "      <td>20231230</td>\n",
       "      <td>4.5</td>\n",
       "      <td>2023-12-30</td>\n",
       "      <td>2023.994635</td>\n",
       "      <td>LUG</td>\n",
       "      <td>20231230</td>\n",
       "      <td>10.6</td>\n",
       "      <td>2023.994635</td>\n",
       "      <td>LUG</td>\n",
       "      <td>20231230</td>\n",
       "      <td>7.4</td>\n",
       "      <td>2023.994635</td>\n",
       "      <td>0.586622</td>\n",
       "    </tr>\n",
       "  </tbody>\n",
       "</table>\n",
       "<p>15704 rows × 14 columns</p>\n",
       "</div>"
      ],
      "text/plain": [
       "      stn_x    time_x  tmin   datetime          t_x stn_y    time_y  tmax  \\\n",
       "0       LUG  19810101   0.3 1981-01-01  1981.000114   LUG  19810101  16.0   \n",
       "1       LUG  19810102   3.3 1981-01-02  1981.002854   LUG  19810102  12.7   \n",
       "2       LUG  19810103   0.6 1981-01-03  1981.005594   LUG  19810103   7.3   \n",
       "3       LUG  19810104   3.5 1981-01-04  1981.008333   LUG  19810104  13.3   \n",
       "4       LUG  19810105   2.1 1981-01-05  1981.011073   LUG  19810105   7.7   \n",
       "...     ...       ...   ...        ...          ...   ...       ...   ...   \n",
       "15699   LUG  20231226   4.7 2023-12-26  2023.983676   LUG  20231226  10.4   \n",
       "15700   LUG  20231227   4.1 2023-12-27  2023.986416   LUG  20231227  11.3   \n",
       "15701   LUG  20231228   6.8 2023-12-28  2023.989155   LUG  20231228   9.1   \n",
       "15702   LUG  20231229   7.7 2023-12-29  2023.991895   LUG  20231229   9.2   \n",
       "15703   LUG  20231230   4.5 2023-12-30  2023.994635   LUG  20231230  10.6   \n",
       "\n",
       "               t_y  stn      time  tabs            t       pet  \n",
       "0      1981.000114  LUG  19810101   8.0  1981.000114  0.972782  \n",
       "1      1981.002854  LUG  19810102   8.4  1981.002854  0.768530  \n",
       "2      1981.005594  LUG  19810103   3.6  1981.005594  0.533057  \n",
       "3      1981.008333  LUG  19810104   8.2  1981.008333  0.788154  \n",
       "4      1981.011073  LUG  19810105   5.0  1981.011073  0.525928  \n",
       "...            ...  ...       ...   ...          ...       ...  \n",
       "15699  2023.983676  LUG  20231226   7.9  2023.983676  0.570308  \n",
       "15700  2023.986416  LUG  20231227   7.3  2023.986416  0.627777  \n",
       "15701  2023.989155  LUG  20231228   8.1  2023.989155  0.367323  \n",
       "15702  2023.991895  LUG  20231229   8.4  2023.991895  0.301190  \n",
       "15703  2023.994635  LUG  20231230   7.4  2023.994635  0.586622  \n",
       "\n",
       "[15704 rows x 14 columns]"
      ]
     },
     "execution_count": 10,
     "metadata": {},
     "output_type": "execute_result"
    }
   ],
   "source": [
    "data"
   ]
  },
  {
   "cell_type": "markdown",
   "id": "031dd4a7",
   "metadata": {},
   "source": [
    "# 5. Adding PET to the final DataFrame and saving the file"
   ]
  },
  {
   "cell_type": "code",
   "execution_count": 11,
   "id": "02f7ad6b",
   "metadata": {},
   "outputs": [],
   "source": [
    "# convert daily PET to hourly data\n",
    "df_index = data[['datetime','pet']].set_index('datetime')\n",
    "hours2daily = df['datetime'].apply(lambda x: df_index.loc[x.strftime('%Y-%m-%d')].values[0])\n",
    "#hours2hourlypet = [data.loc[data['datetime']==day]['pet'].values[0]/24 for day in hours2days]\n",
    "df['pet'] = hours2daily/24"
   ]
  },
  {
   "cell_type": "code",
   "execution_count": 12,
   "id": "359de5b8",
   "metadata": {},
   "outputs": [
    {
     "data": {
      "text/plain": [
       "0"
      ]
     },
     "execution_count": 12,
     "metadata": {},
     "output_type": "execute_result"
    }
   ],
   "source": [
    "df.fillna(0, inplace=True)\n",
    "df['p'].isnull().sum()"
   ]
  },
  {
   "cell_type": "code",
   "execution_count": 13,
   "id": "864707d8",
   "metadata": {},
   "outputs": [],
   "source": [
    "if not os.path.exists('hourly_data_withPET'):\n",
    "    os.makedirs('hourly_data_withPET')\n",
    "df.to_csv('./hourly_data_withPET/{0}.csv'.format(site2name[site]), index=False)"
   ]
  },
  {
   "cell_type": "code",
   "execution_count": null,
   "id": "71a280dc",
   "metadata": {},
   "outputs": [],
   "source": []
  }
 ],
 "metadata": {
  "kernelspec": {
   "display_name": "Python 3 (ipykernel)",
   "language": "python",
   "name": "python3"
  },
  "language_info": {
   "codemirror_mode": {
    "name": "ipython",
    "version": 3
   },
   "file_extension": ".py",
   "mimetype": "text/x-python",
   "name": "python",
   "nbconvert_exporter": "python",
   "pygments_lexer": "ipython3",
   "version": "3.10.12"
  }
 },
 "nbformat": 4,
 "nbformat_minor": 5
}
