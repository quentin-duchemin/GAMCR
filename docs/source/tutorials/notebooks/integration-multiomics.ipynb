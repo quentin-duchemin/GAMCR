{
 "cells": [
  {
   "cell_type": "markdown",
   "id": "a3c5787b",
   "metadata": {},
   "source": [
    "Integration of single cell multi-omics data\n",
    "==================================\n",
    "\n",
    "> In order to use scClone2DR with single cell multi-omics data, you first need to compute latent representations of all cells. Ideally this integration step should: \n",
    "\n",
    "1) Significantly reduce the dimensionality of the initial dataset (in terms of number of features),\n",
    "\n",
    "2) Leverage the complemenary information coming from different modalities to learn a single representation for each cell,\n",
    "\n",
    "3) Provide latent representations that are intepretable (typically: each entry can be easily mapped back to a known pathway),\n",
    "\n",
    "4) Take care of the technical noise and biases inherent to single cell measurements. \n",
    "\n",
    "> In our paper (in the appendix), we give a review of the literature for interpretable VAE based integration method of single cell multi-omics data. In this section, we describe the different files that need to be saved before running scClone2DR.\n",
    "\n",
    "\n",
    "\n",
    "\n",
    "Files needed for scClone2DR\n",
    "------------------------------------------\n",
    "\n",
    "In a directory of your choice, you need to save:\n",
    "\n",
    "\n",
    "* `clone_infos.csv`\n",
    "\n",
    "   **Pandas DataFrame**\n",
    "   \n",
    "   This dataframe should contain 4 columns with names:\n",
    "   \n",
    "   * `cloneID`: it should range all integers from 0 to K (in case you have defined K+1 clusters in total)\n",
    "   * `clonetype`: it should contain some fine information on the content of the clone. Typically, it can be the dominant cell type in the clone. Note that this information might be useful when analyzing your results but scClone2DR will not use it to train the model.\n",
    "   * `clonelabel`: the label of the clone. This information is used by scClone2DR since some parameters (to compute the survival probabilies at the subclonal level) are label-specific.\n",
    "   * `clonecategory`: should be either `healthy` or `tumor` depending on the category of this clone.\n",
    "   \n",
    "* `sample2data/`\n",
    "\n",
    "    **Folder containing .csv files**\n",
    "    \n",
    "    This folder should contain .csv files of the form `{sampleID}.csv`. Each file should contain the information regarding all cells for the sample and should have the following columns:\n",
    "    \n",
    "    * `cell_id`: the ID of the cell\n",
    "    * `dim_0`,..., `dim_{N-1}`: the latent representation of the cell is given by this set of columns (here N is the dimension of the feature vector for the cell)\n",
    "    * `celltype`: the type of the cell\n",
    "    * `cellcategory`: should be either `healthy` or `tumor` depending on the category of this cell.\n",
    "    * `cloneID`: it should give the ID of the clone to which the cell belongs to\n",
    "    * `clonetype`: it should give the type of the clone to which the cell belongs to\n",
    "    * `clonelabel`: it should give the label of the clone to which the cell belongs to\n",
    "    * `clonecategory`: should be either `healthy` or `tumor` depending on the category of the clone to which the cell belongs to."
   ]
  },
  {
   "cell_type": "markdown",
   "id": "d59be5a1",
   "metadata": {},
   "source": [
    "![Screen shot of the beginning of the interacive tool for the online framework.](../../_static/clone_label_type.png)"
   ]
  }
 ],
 "metadata": {
  "kernelspec": {
   "display_name": "Python 3 (ipykernel)",
   "language": "python",
   "name": "python3"
  },
  "language_info": {
   "codemirror_mode": {
    "name": "ipython",
    "version": 3
   },
   "file_extension": ".py",
   "mimetype": "text/x-python",
   "name": "python",
   "nbconvert_exporter": "python",
   "pygments_lexer": "ipython3",
   "version": "3.10.12"
  }
 },
 "nbformat": 4,
 "nbformat_minor": 5
}
