{
 "cells": [
  {
   "cell_type": "markdown",
   "metadata": {},
   "source": [
    "Saving drug response data\n",
    "======================\n",
    "\n",
    "\n",
    "> In order to use scClone2DR, you first need to provide a csv file with the pharmacoscopy data with the appropriate format.\n",
    "\n",
    "\n",
    "Format of the csv file containing results of the drug assay\n",
    "----------------------------------------------------------------------------------\n",
    "\n",
    "In a csv file, you need to provide drug screening data where each line corresponds to a specific well and with the following columns:\n",
    "\n",
    "* `sampleID`\n",
    "   \n",
    "   **string**\n",
    "   \n",
    "   ID of the different samples.\n",
    "   \n",
    "* `Drug`\n",
    "\n",
    "    **string**\n",
    "    \n",
    "    Name of the drug. If no drug is used in the well, then you indicate `DMSO` in this column.\n",
    "    \n",
    "* `Concentration`\n",
    "\n",
    "    **float**\n",
    "    \n",
    "    Concentration of the drug (or DMSO) used in the well.\n",
    "    \n",
    "* `Number_tumor_cells`\n",
    "\n",
    "    **Integer**\n",
    "    \n",
    "    Total number of tumor cells measured in the well at the end of the study.\n",
    "    \n",
    "* `Number_tumor_cells`\n",
    "\n",
    "    **Integer**\n",
    "    \n",
    "    Total number of living tumor cells measured in the well at the end of the study.\n",
    "    \n",
    "* `Number_all_cells`\n",
    "\n",
    "    **Integer**\n",
    "    \n",
    "    Total number of living cells measured in the well at the end of the study.\n",
    "    \n",
    "* `Well_position_1`\n",
    "\n",
    "    **Integer**\n",
    "    \n",
    "    x coordinate of the position of the well on the plate.\n",
    "    \n",
    "* `Well_position_2`\n",
    "\n",
    "    **Integer**\n",
    "    \n",
    "    y coordinate of the position of the well on the plate."
   ]
  },
  {
   "cell_type": "code",
   "execution_count": null,
   "metadata": {},
   "outputs": [],
   "source": []
  }
 ],
 "metadata": {
  "kernelspec": {
   "display_name": "Python 3 (ipykernel)",
   "language": "python",
   "name": "python3"
  },
  "language_info": {
   "codemirror_mode": {
    "name": "ipython",
    "version": 3
   },
   "file_extension": ".py",
   "mimetype": "text/x-python",
   "name": "python",
   "nbconvert_exporter": "python",
   "pygments_lexer": "ipython3",
   "version": "3.10.12"
  }
 },
 "nbformat": 4,
 "nbformat_minor": 4
}
