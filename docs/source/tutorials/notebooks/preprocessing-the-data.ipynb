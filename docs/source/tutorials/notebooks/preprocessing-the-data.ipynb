{
 "cells": [
  {
   "cell_type": "markdown",
   "metadata": {},
   "source": [
    "Running the model\n",
    "================\n",
    "\n",
    "\n",
    "This note explains in a nutshell how the data should be formatted and what preprocessing steps are needed to run the GAMCR model."
   ]
  },
  {
   "cell_type": "markdown",
   "metadata": {},
   "source": [
    "# 1. Check that your dataset has the right format\n",
    "\n",
    "Your datasets should be a `.txt` file with the following column names:\n",
    "\n",
    "- timeyear: for the timeyear (e.g. 2022.45)\n",
    "- p: for precipitation\n",
    "- pet: for potential evapotranspiration\n",
    "- q: for streamflow\n",
    "- date: for datetime object representing the date"
   ]
  },
  {
   "cell_type": "markdown",
   "metadata": {},
   "source": [
    "# 2. Data preprocessing\n",
    "\n",
    "Training GAMCR is much more efficient when some computations are made offline (before lauching training). To process the data, you should use the following script:\n",
    "    "
   ]
  },
  {
   "cell_type": "code",
   "execution_count": null,
   "metadata": {},
   "outputs": [],
   "source": [
    "import pandas as pd\n",
    "import numpy as np\n",
    "import sys\n",
    "sys.path.append('YOUR PATH TO GAMCR')\n",
    "import GAMCR\n",
    "\n",
    "for site in ['Basel_notflashy']: \n",
    "    model = GAMCR.model.GAMCR(features = {'date':True})    \n",
    "    save_folder = './{0}/data/'.format(site)\n",
    "    datafile = './{0}/data_{0}.txt'.format(site)\n",
    "    model.save_batch(save_folder, datafile)"
   ]
  },
  {
   "cell_type": "markdown",
   "metadata": {},
   "source": [
    "# 3.A Training a model with predefined hyperparameters\n",
    "\n",
    "As explained in our paper, GAMCR consider two regularization parameters. If you decide to set yourself the values of this parameters, then you can use the code below to train the model.\n"
   ]
  },
  {
   "cell_type": "code",
   "execution_count": null,
   "metadata": {},
   "outputs": [],
   "source": [
    "import pandas as pd\n",
    "import numpy as np\n",
    "import sys\n",
    "sys.path.append('/mydata/watres/quentin/code/FLOW/hourly_analysis/')\n",
    "import GAMCR\n",
    "\n",
    "station = 'Basel'\n",
    "mode = 'notflashy'\n",
    "model_ghost = GAMCR.model.GAMCR(lam=0.1)\n",
    "save_folder = './{0}_{1}/data/'.format(station, mode)\n",
    "X, matJ, y, timeyear, dates = model_ghost.load_data(save_folder, max_files=96)\n",
    "\n",
    "\n",
    "# Hyperparameter 1: control the smoothnees of the coefficients with respect to the different features\n",
    "lam = 0.0005\n",
    "\n",
    "# Hyperparameter 2: control the smoothness of the transfer functions\n",
    "global_lam = 0.1\n",
    "\n",
    "model = GAMCR.model.GAMCR(lam=lam)\n",
    "model.load_model('./{0}_{1}/data/params.pkl'.format(station, mode), lam=lam)\n",
    "save_folder = './{0}_{1}/'.format(station, mode)\n",
    "name_model = '{0}_{1}_best_model'.format(station, mode)\n",
    "loss = model.train(X, matJ, y, dates=dates, lr=1e-1, max_iter=10000, warm_start=False, save_folder=save_folder, name_model=name_model, normalization_loss=1, lam_global = global_lam)\n"
   ]
  },
  {
   "cell_type": "markdown",
   "metadata": {},
   "source": [
    "# 3.B Training a model selecting hyperparameters with cross validation\n",
    "\n",
    "In case you would like to optimize the selection of the hyperparamters, you can launch the script `CV_model.py` which will train the model for different values of the hyperparameters (located on a 2D grid).\n",
    "\n",
    "Once all models are trained, you can investigate the results yourself to find the best one and use the script `find_best_model_CV.py` to use an automated processure to find the best model."
   ]
  }
 ],
 "metadata": {
  "kernelspec": {
   "display_name": "Python 3 (ipykernel)",
   "language": "python",
   "name": "python3"
  },
  "language_info": {
   "codemirror_mode": {
    "name": "ipython",
    "version": 3
   },
   "file_extension": ".py",
   "mimetype": "text/x-python",
   "name": "python",
   "nbconvert_exporter": "python",
   "pygments_lexer": "ipython3",
   "version": "3.10.12"
  }
 },
 "nbformat": 4,
 "nbformat_minor": 4
}
